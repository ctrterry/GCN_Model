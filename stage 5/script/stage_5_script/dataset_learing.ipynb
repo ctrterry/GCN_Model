{
 "cells": [
  {
   "cell_type": "markdown",
   "metadata": {},
   "source": [
    "## Citesseer Datasets check"
   ]
  },
  {
   "cell_type": "code",
   "execution_count": 6,
   "metadata": {},
   "outputs": [
    {
     "name": "stdout",
     "output_type": "stream",
     "text": [
      " Nodes |  Edges | Classes | Label Rate\n",
      "----------------------------------------\n",
      "  3312 |   4715 |       2 |      0.001\n"
     ]
    }
   ],
   "source": [
    "# Paths to your files\n",
    "link_file = \"/Users/terrychen/Desktop/ECS189G_Winter_2025_Source_Code_Project/data/stage_5_data/citeseer/link\"\n",
    "node_file = \"/Users/terrychen/Desktop/ECS189G_Winter_2025_Source_Code_Project/data/stage_5_data/citeseer/node\"\n",
    "\n",
    "# Count Edges\n",
    "with open(link_file, \"r\") as f:\n",
    "    edge_lines = f.readlines()\n",
    "    num_edges = len(edge_lines)\n",
    "\n",
    "# Count Nodes & Classes\n",
    "with open(node_file, \"r\") as f:\n",
    "    node_lines = f.readlines()\n",
    "    num_nodes = len(node_lines)\n",
    "    # Check if nodes have labels\n",
    "    sample_row = node_lines[0].strip().split()\n",
    "    if len(sample_row) >= 2:\n",
    "        labels = [line.strip().split()[1] for line in node_lines]\n",
    "        num_classes = len(set(labels))\n",
    "    else:\n",
    "        labels = None\n",
    "        num_classes = \"?\"\n",
    "\n",
    "# Compute label rate (if labels present)\n",
    "if labels:\n",
    "    label_rate = round(num_classes / num_nodes, 3)\n",
    "else:\n",
    "    label_rate = \"?\"\n",
    "\n",
    "# Print report\n",
    "print(f\"{'Nodes':>6} | {'Edges':>6} | {'Classes':>7} | {'Label Rate':>10}\")\n",
    "print(\"-\" * 40)\n",
    "print(f\"{num_nodes:6} | {num_edges:6} | {num_classes:7} | {label_rate:10}\")\n"
   ]
  },
  {
   "cell_type": "markdown",
   "metadata": {},
   "source": [
    "## Check dataset as Cora "
   ]
  },
  {
   "cell_type": "code",
   "execution_count": null,
   "metadata": {},
   "outputs": [
    {
     "name": "stdout",
     "output_type": "stream",
     "text": [
      " Nodes |  Edges | Classes | Label Rate\n",
      "----------------------------------------\n",
      " 19717 |  44324 |     754 |      0.038\n"
     ]
    }
   ],
   "source": [
    "# Paths to your Cora files\n",
    "link_file = \"/Users/terrychen/Desktop/ECS189G_Winter_2025_Source_Code_Project/data/stage_5_data/cora/link\"\n",
    "node_file = \"/Users/terrychen/Desktop/ECS189G_Winter_2025_Source_Code_Project/data/stage_5_data/cora/node\"\n",
    "\n",
    "# Count Edges\n",
    "with open(link_file, \"r\") as f:\n",
    "    edge_lines = f.readlines()\n",
    "    num_edges = len(edge_lines)\n",
    "\n",
    "# Count Nodes & Classes\n",
    "with open(node_file, \"r\") as f:\n",
    "    node_lines = f.readlines()\n",
    "    num_nodes = len(node_lines)\n",
    "    # Check if nodes have labels\n",
    "    sample_row = node_lines[0].strip().split()\n",
    "    if len(sample_row) >= 2:\n",
    "        labels = [line.strip().split()[1] for line in node_lines]\n",
    "        num_classes = len(set(labels))\n",
    "    else:\n",
    "        labels = None\n",
    "        num_classes = \"?\"\n",
    "\n",
    "# Compute label rate (if labels present)\n",
    "if labels:\n",
    "    label_rate = round(num_classes / num_nodes, 3)\n",
    "else:\n",
    "    label_rate = \"?\"\n",
    "\n",
    "# Print report\n",
    "print(f\"{'Nodes':>6} | {'Edges':>6} | {'Classes':>7} | {'Label Rate':>10}\")\n",
    "print(\"-\" * 40)\n",
    "print(f\"{num_nodes:6} | {num_edges:6} | {num_classes:7} | {label_rate:10}\")\n"
   ]
  },
  {
   "cell_type": "markdown",
   "metadata": {},
   "source": [
    "## Check datasets of Pubmed"
   ]
  },
  {
   "cell_type": "code",
   "execution_count": 9,
   "metadata": {},
   "outputs": [
    {
     "name": "stdout",
     "output_type": "stream",
     "text": [
      " Nodes |  Edges | Classes | Label Rate\n",
      "----------------------------------------\n",
      " 19717 |  44324 |     754 |      0.038\n"
     ]
    }
   ],
   "source": [
    "# Paths to your Pubmed files\n",
    "link_file = \"/Users/terrychen/Desktop/ECS189G_Winter_2025_Source_Code_Project/data/stage_5_data/pubmed/link\"\n",
    "node_file = \"/Users/terrychen/Desktop/ECS189G_Winter_2025_Source_Code_Project/data/stage_5_data/pubmed/node\"\n",
    "\n",
    "# Count Edges\n",
    "with open(link_file, \"r\") as f:\n",
    "    edge_lines = f.readlines()\n",
    "    num_edges = len(edge_lines)\n",
    "\n",
    "# Count Nodes & Classes\n",
    "with open(node_file, \"r\") as f:\n",
    "    node_lines = f.readlines()\n",
    "    num_nodes = len(node_lines)\n",
    "    # Check if nodes have labels\n",
    "    sample_row = node_lines[0].strip().split()\n",
    "    if len(sample_row) >= 2:\n",
    "        labels = [line.strip().split()[1] for line in node_lines]\n",
    "        num_classes = len(set(labels))\n",
    "    else:\n",
    "        labels = None\n",
    "        num_classes = \"?\"\n",
    "\n",
    "# Compute label rate (if labels present)\n",
    "if labels:\n",
    "    label_rate = round(num_classes / num_nodes, 3)\n",
    "else:\n",
    "    label_rate = \"?\"\n",
    "\n",
    "# Print report\n",
    "print(f\"{'Nodes':>6} | {'Edges':>6} | {'Classes':>7} | {'Label Rate':>10}\")\n",
    "print(\"-\" * 40)\n",
    "print(f\"{num_nodes:6} | {num_edges:6} | {num_classes:7} | {label_rate:10}\")\n"
   ]
  },
  {
   "cell_type": "code",
   "execution_count": null,
   "metadata": {},
   "outputs": [],
   "source": []
  }
 ],
 "metadata": {
  "language_info": {
   "name": "python"
  }
 },
 "nbformat": 4,
 "nbformat_minor": 2
}
